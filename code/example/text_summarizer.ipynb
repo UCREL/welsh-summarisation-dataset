{
  "cells": [
    {
      "cell_type": "markdown",
      "metadata": {
        "id": "NjlWYyYePxvq"
      },
      "source": [
        "## Welsh Text Summarisation\n",
        "\n",
        "**Text:**\n",
        "*Mae Erthygl 25 o Ddatganiad Cyffredinol Hawliau Dynol 1948 y Cenhedloedd Unedig yn nodi: \"Mae gan bawb yr hawl i safon byw sy'n ddigonol ar gyfer iechyd a lles ei hun a'i deulu, gan gynnwys bwyd, dillad, tai a gofal meddygol a gwasanaethau cymdeithasol angenrheidiol. \"Mae'r Datganiad Cyffredinol yn cynnwys lletyaeth er mwyn diogelu person ac mae hefyd yn sôn yn arbennig am y gofal a roddir i'r rheini sydd mewn mamolaeth neu blentyndod. Ystyrir mai Datganiad Cyffredinol o Hawliau Dynol fel y datganiad rhyngwladol cyntaf o hawliau dynol sylfaenol. Dywedodd Uchel Gomisiynydd y Cenhedloedd Unedig dros Hawliau Dynol Navanethem Pillay fod y Datganiad Cyffredinol o Hawliau Dynol \"yn ymgorffori gweledigaeth sy'n gofyn am gymryd yr holl hawliau dynol - sifil, gwleidyddol, economaidd, cymdeithasol neu ddiwylliannol - fel cyfanwaith anwahanadwy ac organig, anwahanadwy a rhyngddibynnol.*\n",
        "\n",
        "**Summary:**\n",
        "*Mae Datganiad Cyffredinol Hawliau Dynol 1948 yn dweud bod gan bawb yr hawl i safon byw digonol. Mae hynny yn cynnwys mynediad at fwyd a dillad a gofal meddygol i bob unigolyn. Dyma’r datganiad cyntaf o hawliau dynol.*"
      ]
    },
    {
      "cell_type": "code",
      "execution_count": 1,
      "metadata": {
        "id": "zVGWkOeAPxvx",
        "outputId": "af925ad3-c7a0-4baa-b602-38fc23cbae5b",
        "colab": {
          "base_uri": "https://localhost:8080/"
        }
      },
      "outputs": [
        {
          "output_type": "stream",
          "name": "stdout",
          "text": [
            "Collecting lexrank\n",
            "  Downloading lexrank-0.1.0-py3-none-any.whl (69 kB)\n",
            "\u001b[K     |████████████████████████████████| 69 kB 5.4 MB/s \n",
            "\u001b[?25hCollecting summa\n",
            "  Downloading summa-1.2.0.tar.gz (54 kB)\n",
            "\u001b[K     |████████████████████████████████| 54 kB 4.2 MB/s \n",
            "\u001b[?25hCollecting fasttext\n",
            "  Downloading fasttext-0.9.2.tar.gz (68 kB)\n",
            "\u001b[K     |████████████████████████████████| 68 kB 8.8 MB/s \n",
            "\u001b[?25hRequirement already satisfied: pyrsistent>=0.14.0 in /usr/local/lib/python3.7/dist-packages (from lexrank->-r requirements.txt (line 1)) (0.18.0)\n",
            "Requirement already satisfied: scipy>=0.19.0 in /usr/local/lib/python3.7/dist-packages (from lexrank->-r requirements.txt (line 1)) (1.4.1)\n",
            "Collecting urlextract>=0.7\n",
            "  Downloading urlextract-1.5.0-py3-none-any.whl (20 kB)\n",
            "Requirement already satisfied: regex>=2017.11.9 in /usr/local/lib/python3.7/dist-packages (from lexrank->-r requirements.txt (line 1)) (2019.12.20)\n",
            "Collecting path.py>=10.5\n",
            "  Downloading path.py-12.5.0-py3-none-any.whl (2.3 kB)\n",
            "Requirement already satisfied: numpy>=1.13.3 in /usr/local/lib/python3.7/dist-packages (from lexrank->-r requirements.txt (line 1)) (1.19.5)\n",
            "Collecting path\n",
            "  Downloading path-16.2.0-py3-none-any.whl (21 kB)\n",
            "Requirement already satisfied: filelock in /usr/local/lib/python3.7/dist-packages (from urlextract>=0.7->lexrank->-r requirements.txt (line 1)) (3.4.0)\n",
            "Collecting uritools\n",
            "  Downloading uritools-3.0.2-py3-none-any.whl (12 kB)\n",
            "Collecting platformdirs\n",
            "  Downloading platformdirs-2.4.1-py3-none-any.whl (14 kB)\n",
            "Requirement already satisfied: idna in /usr/local/lib/python3.7/dist-packages (from urlextract>=0.7->lexrank->-r requirements.txt (line 1)) (2.10)\n",
            "Collecting pybind11>=2.2\n",
            "  Using cached pybind11-2.8.1-py2.py3-none-any.whl (208 kB)\n",
            "Requirement already satisfied: setuptools>=0.7.0 in /usr/local/lib/python3.7/dist-packages (from fasttext->-r requirements.txt (line 3)) (57.4.0)\n",
            "Building wheels for collected packages: summa, fasttext\n",
            "  Building wheel for summa (setup.py) ... \u001b[?25l\u001b[?25hdone\n",
            "  Created wheel for summa: filename=summa-1.2.0-py3-none-any.whl size=54410 sha256=0b71d95e13c97646b57ee4a3c5d0f1322dbbd780705b1fb06eacaf075f03a2da\n",
            "  Stored in directory: /root/.cache/pip/wheels/29/64/ac/7b443477588d365ef37ada30d456bdf5f07dc5be9f6324cb6e\n",
            "  Building wheel for fasttext (setup.py) ... \u001b[?25l\u001b[?25hdone\n",
            "  Created wheel for fasttext: filename=fasttext-0.9.2-cp37-cp37m-linux_x86_64.whl size=3121928 sha256=1d9a3e9ed5bdce11d472de2b4d3d279a6ce8fb766089942f462429bca0b3f29d\n",
            "  Stored in directory: /root/.cache/pip/wheels/4e/ca/bf/b020d2be95f7641801a6597a29c8f4f19e38f9c02a345bab9b\n",
            "Successfully built summa fasttext\n",
            "Installing collected packages: uritools, platformdirs, path, urlextract, pybind11, path.py, summa, lexrank, fasttext\n",
            "Successfully installed fasttext-0.9.2 lexrank-0.1.0 path-16.2.0 path.py-12.5.0 platformdirs-2.4.1 pybind11-2.8.1 summa-1.2.0 uritools-3.0.2 urlextract-1.5.0\n"
          ]
        }
      ],
      "source": [
        "## install dependencies\n",
        "def setup(dependencies):\n",
        " # create the requirement file with the dependencies\n",
        "  with open(\"requirements.txt\", \"w\") as f:\n",
        "    f.write(\"\\n\".join(dependencies))\n",
        "  !pip install -r requirements.txt\n",
        "# setup(dependencies = [\"rouge\", \"rouge-metric\", \"lexrank\", \"summa\", \"fasttext\"])\n",
        "\n",
        "setup(dependencies = [\"lexrank\", \"summa\", \"fasttext\"])"
      ]
    },
    {
      "cell_type": "markdown",
      "metadata": {
        "id": "vumBOHe2Pxvz"
      },
      "source": [
        "### Run `setup.py`"
      ]
    },
    {
      "cell_type": "code",
      "execution_count": 16,
      "metadata": {
        "id": "-SAO9-zmPxvz",
        "outputId": "6bafbe0b-d6bb-41e4-a52b-0b2ab2dbd640",
        "colab": {
          "base_uri": "https://localhost:8080/"
        }
      },
      "outputs": [
        {
          "output_type": "stream",
          "name": "stdout",
          "text": [
            "[nltk_data] Downloading package punkt to /root/nltk_data...\n",
            "[nltk_data]   Package punkt is already up-to-date!\n"
          ]
        }
      ],
      "source": [
        "# load setup.py\n",
        "!wget https://github.com/IgnatiusEzeani/welsh-text-summarizer/raw/main/code/Example/setup.py\n",
        "%run setup.py"
      ]
    },
    {
      "cell_type": "code",
      "execution_count": 3,
      "metadata": {
        "id": "sJnmDphiPxv0",
        "outputId": "bf3872d2-f062-4403-989d-2393dd925843",
        "colab": {
          "base_uri": "https://localhost:8080/",
          "height": 91
        }
      },
      "outputs": [
        {
          "output_type": "execute_result",
          "data": {
            "application/vnd.google.colaboratory.intrinsic+json": {
              "type": "string"
            },
            "text/plain": [
              "'Mae Erthygl 25 o Ddatganiad Cyffredinol Hawliau Dynol 1948 y Cenhedloedd Unedig yn nodi: \"Mae gan bawb yr hawl i safon byw sy\\'n ddigonol ar gyfer iechyd a lles ei hun a\\'i deulu, gan gynnwys bwyd, dillad, tai a gofal meddygol a gwasanaethau cymdeithasol angenrheidiol. \"Mae\\'r Datganiad Cyffredinol yn cynnwys lletyaeth er mwyn diogelu person ac mae hefyd yn sôn yn arbennig am y gofal a roddir i\\'r rheini sydd mewn mamolaeth neu blentyndod. Ystyrir mai Datganiad Cyffredinol o Hawliau Dynol fel y datganiad rhyngwladol cyntaf o hawliau dynol sylfaenol. Dywedodd Uchel Gomisiynydd y Cenhedloedd Unedig dros Hawliau Dynol Navanethem Pillay fod y Datganiad Cyffredinol o Hawliau Dynol \"yn ymgorffori gweledigaeth sy\\'n gofyn am gymryd yr holl hawliau dynol - sifil, gwleidyddol, economaidd, cymdeithasol neu ddiwylliannol - fel cyfanwaith anwahanadwy ac organig, anwahanadwy a rhyngddibynnol.'"
            ]
          },
          "metadata": {},
          "execution_count": 3
        }
      ],
      "source": [
        "example_text"
      ]
    },
    {
      "cell_type": "code",
      "execution_count": 4,
      "metadata": {
        "id": "LClE5103Pxv1",
        "outputId": "7b7164a3-f3d2-4012-92a8-d177a1056a4c",
        "colab": {
          "base_uri": "https://localhost:8080/",
          "height": 36
        }
      },
      "outputs": [
        {
          "output_type": "execute_result",
          "data": {
            "application/vnd.google.colaboratory.intrinsic+json": {
              "type": "string"
            },
            "text/plain": [
              "'Mae Datganiad Cyffredinol Hawliau Dynol 1948 yn dweud bod gan bawb yr hawl i safon byw digonol. Mae hynny yn cynnwys mynediad at fwyd a dillad a gofal meddygol i bob unigolyn. Dyma’r datganiad cyntaf o hawliau dynol'"
            ]
          },
          "metadata": {},
          "execution_count": 4
        }
      ],
      "source": [
        "example_summary"
      ]
    },
    {
      "cell_type": "markdown",
      "metadata": {
        "id": "JdhYmAUHPxv2"
      },
      "source": [
        "### 1. Using `1st Sentence` Summarizer"
      ]
    },
    {
      "cell_type": "code",
      "execution_count": 7,
      "metadata": {
        "id": "8r6ZdjMePxv3",
        "outputId": "46df6c2e-094d-4576-9b1a-8800a2ef4042",
        "colab": {
          "base_uri": "https://localhost:8080/",
          "height": 54
        }
      },
      "outputs": [
        {
          "output_type": "execute_result",
          "data": {
            "application/vnd.google.colaboratory.intrinsic+json": {
              "type": "string"
            },
            "text/plain": [
              "'Mae Erthygl 25 o Ddatganiad Cyffredinol Hawliau Dynol 1948 y Cenhedloedd Unedig yn nodi: \"Mae gan bawb yr hawl i safon byw sy\\'n ddigonol ar gyfer iechyd a lles ei hun a\\'i deulu, gan gynnwys bwyd, dillad, tai a gofal meddygol a gwasanaethau cymdeithasol angenrheidiol.'"
            ]
          },
          "metadata": {},
          "execution_count": 7
        }
      ],
      "source": [
        "first_sent_summarize(example_text)"
      ]
    },
    {
      "cell_type": "markdown",
      "metadata": {
        "id": "3ufmE3VoPxv4"
      },
      "source": [
        "### 2. Using `LexRank` Summarizer"
      ]
    },
    {
      "cell_type": "code",
      "execution_count": 8,
      "metadata": {
        "id": "26kVbIkQPxv5",
        "outputId": "901f3e1e-5b76-4cfe-c7b2-837a9a4530b0",
        "colab": {
          "base_uri": "https://localhost:8080/",
          "height": 54
        }
      },
      "outputs": [
        {
          "output_type": "execute_result",
          "data": {
            "application/vnd.google.colaboratory.intrinsic+json": {
              "type": "string"
            },
            "text/plain": [
              "'Dywedodd Uchel Gomisiynydd y Cenhedloedd Unedig dros Hawliau Dynol Navanethem Pillay fod y Datganiad Cyffredinol o Hawliau Dynol \"yn ymgorffori gweledigaeth sy\\'n gofyn am gymryd yr holl hawliau dynol - sifil, gwleidyddol, economaidd, cymdeithasol neu ddiwylliannol - fel cyfanwaith anwahanadwy ac organig, anwahanadwy a rhyngddibynnol.\\nYstyrir mai Datganiad Cyffredinol o Hawliau Dynol fel y datganiad rhyngwladol cyntaf o hawliau dynol sylfaenol.'"
            ]
          },
          "metadata": {},
          "execution_count": 8
        }
      ],
      "source": [
        "lex_rank_summarize(example_text)"
      ]
    },
    {
      "cell_type": "markdown",
      "metadata": {
        "id": "aXTAK8_WPxv6"
      },
      "source": [
        "### 3. Using `TextRank` Summarizer"
      ]
    },
    {
      "cell_type": "code",
      "execution_count": 9,
      "metadata": {
        "id": "DoGc4ufwPxv7",
        "outputId": "6eae9c30-f65e-45fb-ed21-27bc2f7a1c04",
        "colab": {
          "base_uri": "https://localhost:8080/",
          "height": 73
        }
      },
      "outputs": [
        {
          "output_type": "execute_result",
          "data": {
            "application/vnd.google.colaboratory.intrinsic+json": {
              "type": "string"
            },
            "text/plain": [
              "'Mae Erthygl 25 o Ddatganiad Cyffredinol Hawliau Dynol 1948 y Cenhedloedd Unedig yn nodi: \"Mae gan bawb yr hawl i safon byw sy\\'n ddigonol ar gyfer iechyd a lles ei hun a\\'i deulu, gan gynnwys bwyd, dillad, tai a gofal meddygol a gwasanaethau cymdeithasol angenrheidiol.\\nDywedodd Uchel Gomisiynydd y Cenhedloedd Unedig dros Hawliau Dynol Navanethem Pillay fod y Datganiad Cyffredinol o Hawliau Dynol \"yn ymgorffori gweledigaeth sy\\'n gofyn am gymryd yr holl hawliau dynol - sifil, gwleidyddol, economaidd, cymdeithasol neu ddiwylliannol - fel cyfanwaith anwahanadwy ac organig, anwahanadwy a rhyngddibynnol.'"
            ]
          },
          "metadata": {},
          "execution_count": 9
        }
      ],
      "source": [
        "text_rank_summarize(example_text)"
      ]
    },
    {
      "cell_type": "markdown",
      "metadata": {
        "id": "He0JLeYLPxv7"
      },
      "source": [
        "### 4. Using `Tfidf` Summarizer"
      ]
    },
    {
      "cell_type": "code",
      "execution_count": 19,
      "metadata": {
        "id": "5E-IRXU4Pxv8",
        "outputId": "8d0f1c30-54d8-4197-e4dd-daa9f2928555",
        "colab": {
          "base_uri": "https://localhost:8080/",
          "height": 54
        }
      },
      "outputs": [
        {
          "output_type": "execute_result",
          "data": {
            "application/vnd.google.colaboratory.intrinsic+json": {
              "type": "string"
            },
            "text/plain": [
              "'Dywedodd Uchel Gomisiynydd y Cenhedloedd Unedig dros Hawliau Dynol Navanethem Pillay fod y Datganiad Cyffredinol o Hawliau Dynol \"yn ymgorffori gweledigaeth sy\\'n gofyn am gymryd yr holl hawliau dynol - sifil, gwleidyddol, economaidd, cymdeithasol neu ddiwylliannol - fel cyfanwaith anwahanadwy ac organig, anwahanadwy a rhyngddibynnol.\\nYstyrir mai Datganiad Cyffredinol o Hawliau Dynol fel y datganiad rhyngwladol cyntaf o hawliau dynol sylfaenol.'"
            ]
          },
          "metadata": {},
          "execution_count": 19
        }
      ],
      "source": [
        "tfidf_summarize(example_text)"
      ]
    },
    {
      "cell_type": "markdown",
      "metadata": {
        "id": "Gj5fQRbiPxv8"
      },
      "source": [
        "### 5. Using `FastText` Embedding Summarizer"
      ]
    },
    {
      "cell_type": "code",
      "execution_count": null,
      "metadata": {
        "id": "MTV301V7Pxv9"
      },
      "outputs": [],
      "source": [
        "url = 'https://dl.fbaipublicfiles.com/fasttext/vectors-crawl/cc.cy.300.bin.gz'\n",
        "filename = 'cc.cy.300.bin.gz'\n",
        "urllib.request.urlretrieve(url, filename)"
      ]
    },
    {
      "cell_type": "code",
      "execution_count": 14,
      "metadata": {
        "id": "6qzWkdVhPxv9",
        "outputId": "c61f3fc7-8b9a-489a-ad2b-4b1e657bc83f",
        "colab": {
          "base_uri": "https://localhost:8080/",
          "height": 73
        }
      },
      "outputs": [
        {
          "output_type": "execute_result",
          "data": {
            "application/vnd.google.colaboratory.intrinsic+json": {
              "type": "string"
            },
            "text/plain": [
              "'Dywedodd Uchel Gomisiynydd y Cenhedloedd Unedig dros Hawliau Dynol Navanethem Pillay fod y Datganiad Cyffredinol o Hawliau Dynol \"yn ymgorffori gweledigaeth sy\\'n gofyn am gymryd yr holl hawliau dynol - sifil, gwleidyddol, economaidd, cymdeithasol neu ddiwylliannol - fel cyfanwaith anwahanadwy ac organig, anwahanadwy a rhyngddibynnol.\\nMae Erthygl 25 o Ddatganiad Cyffredinol Hawliau Dynol 1948 y Cenhedloedd Unedig yn nodi: \"Mae gan bawb yr hawl i safon byw sy\\'n ddigonol ar gyfer iechyd a lles ei hun a\\'i deulu, gan gynnwys bwyd, dillad, tai a gofal meddygol a gwasanaethau cymdeithasol angenrheidiol.'"
            ]
          },
          "metadata": {},
          "execution_count": 14
        }
      ],
      "source": [
        "unzip('cc.cy.300.bin.gz')\n",
        "embedding = fasttext.load_model('cc.cy.300.bin')\n",
        "embed_summarize(example_text, embedding)"
      ]
    },
    {
      "cell_type": "markdown",
      "source": [
        "### 5. Using `WNLT` Embedding Summarizer \n"
      ],
      "metadata": {
        "id": "Ij3i_u1eY-jp"
      }
    },
    {
      "cell_type": "code",
      "execution_count": 19,
      "metadata": {
        "id": "x-yjUjEjPxv-",
        "outputId": "8fbc9a88-3a8a-4b9f-c123-ed911846e44d",
        "colab": {
          "base_uri": "https://localhost:8080/",
          "height": 73
        }
      },
      "outputs": [
        {
          "output_type": "execute_result",
          "data": {
            "application/vnd.google.colaboratory.intrinsic+json": {
              "type": "string"
            },
            "text/plain": [
              "'Dywedodd Uchel Gomisiynydd y Cenhedloedd Unedig dros Hawliau Dynol Navanethem Pillay fod y Datganiad Cyffredinol o Hawliau Dynol \"yn ymgorffori gweledigaeth sy\\'n gofyn am gymryd yr holl hawliau dynol - sifil, gwleidyddol, economaidd, cymdeithasol neu ddiwylliannol - fel cyfanwaith anwahanadwy ac organig, anwahanadwy a rhyngddibynnol.\\nMae Erthygl 25 o Ddatganiad Cyffredinol Hawliau Dynol 1948 y Cenhedloedd Unedig yn nodi: \"Mae gan bawb yr hawl i safon byw sy\\'n ddigonol ar gyfer iechyd a lles ei hun a\\'i deulu, gan gynnwys bwyd, dillad, tai a gofal meddygol a gwasanaethau cymdeithasol angenrheidiol.'"
            ]
          },
          "metadata": {},
          "execution_count": 19
        }
      ],
      "source": [
        "# !wget https://datainnovation.cardiff.ac.uk/is/wecy/files/FastText_WNLT_SkipGram.zip\n",
        "# unzip(\"FastText_WNLT_SkipGram.zip\")\n",
        "\n",
        "# Loading in FastText_WNLT_SkipGram\n",
        "# wnlt_dir = \"./FastText_WNLT_SkipGram/FastText_WNLT_SkipGram\"\n",
        "try:\n",
        "  embedding = gensim.models.FastText.load(os.path.join(wnlt_dir, 'skipgram_subword_model.model'))\n",
        "except: AttributeError\n",
        "embed_summarize(example_text, embedding)"
      ]
    }
  ],
  "metadata": {
    "kernelspec": {
      "display_name": "Python 3",
      "language": "python",
      "name": "python3"
    },
    "language_info": {
      "codemirror_mode": {
        "name": "ipython",
        "version": 3
      },
      "file_extension": ".py",
      "mimetype": "text/x-python",
      "name": "python",
      "nbconvert_exporter": "python",
      "pygments_lexer": "ipython3",
      "version": "3.7.4"
    },
    "colab": {
      "name": "text_summarizer.ipynb",
      "provenance": [],
      "machine_shape": "hm"
    },
    "accelerator": "GPU"
  },
  "nbformat": 4,
  "nbformat_minor": 0
}