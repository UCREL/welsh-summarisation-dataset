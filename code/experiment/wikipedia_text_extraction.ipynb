{
 "cells": [
  {
   "cell_type": "markdown",
   "metadata": {},
   "source": [
    "# Welsh Summarizer\n",
    "### Install Required Packages"
   ]
  },
  {
   "cell_type": "code",
   "execution_count": 181,
   "metadata": {},
   "outputs": [],
   "source": [
    "# !pip install wikipedia-api\n",
    "# !pip install wikipedia\n",
    "# !pip install ftfy==3.0\n",
    "# !pip install --default-timeout=1000 future"
   ]
  },
  {
   "cell_type": "markdown",
   "metadata": {},
   "source": [
    "### Import modules"
   ]
  },
  {
   "cell_type": "code",
   "execution_count": 182,
   "metadata": {},
   "outputs": [],
   "source": [
    "import os\n",
    "import wikipedia\n",
    "import wikipediaapi\n",
    "import ftfy\n",
    "import shutil"
   ]
  },
  {
   "cell_type": "markdown",
   "metadata": {},
   "source": [
    "### Define functions"
   ]
  },
  {
   "cell_type": "code",
   "execution_count": 183,
   "metadata": {},
   "outputs": [],
   "source": [
    "# Get a wikipedia pages given a set of keywords\n",
    "def get_wiki_pages(keywords, results=10):\n",
    "    wikipedia.set_lang(\"cy\")\n",
    "    page_names = []\n",
    "    for word in keywords: \n",
    "        page_names.extend(wikipedia.search(word, results=results))\n",
    "    return page_names\n",
    "\n",
    "# Check that page exists\n",
    "def wiki_page_exist(page_title, lang=\"cy\"):\n",
    "    wiki_lang = wikipediaapi.Wikipedia(lang)\n",
    "    title = ftfy.fix_text(page_title)\n",
    "    return wiki_lang.page(page_title).exists()\n",
    "\n",
    "# return lines of text in a file\n",
    "def readfile(filename):\n",
    "    with open(filename, \"r\", encoding=\"utf8\") as fileObj:\n",
    "        fileLines = [keyword.strip() for keyword in fileObj.readlines()\n",
    "    return fileLines\n",
    "\n",
    "# check if min_token_count is met\n",
    "def count_tokens(text, min_token_count = 500):\n",
    "    return len(text.split())>=min_token_count"
   ]
  },
  {
   "cell_type": "markdown",
   "metadata": {},
   "source": [
    "### Read and combine file contents"
   ]
  },
  {
   "cell_type": "code",
   "execution_count": 212,
   "metadata": {},
   "outputs": [],
   "source": [
    "# read the wiki pages file\n",
    "wiki_pages = readfile(\"welsh_wiki_pages.txt\")\n",
    "\n",
    "# read most edited wiki pages\n",
    "most_edited_list = [line.split(',')[0] for line in readfile(\"20210623 Most edited.csv\")]\n",
    "\n",
    "# get 100 wiki pages from available keywords\n",
    "keyword_pages = get_wiki_pages(readfile(\"welsh_keywords.txt\")[1:], 100)\n",
    "\n",
    "# combine all page without repeat\n",
    "all_wiki_pages = set(keyword_pages + wiki_pages + most_edited_list)"
   ]
  },
  {
   "cell_type": "markdown",
   "metadata": {},
   "source": [
    "### Check existing and missing pages"
   ]
  },
  {
   "cell_type": "code",
   "execution_count": 213,
   "metadata": {},
   "outputs": [
    {
     "name": "stdout",
     "output_type": "stream",
     "text": [
      "2521 of 2522 pages checked"
     ]
    }
   ],
   "source": [
    "# get existing pages on Wikipedia\n",
    "existing_wiki_pages = []\n",
    "for i, page in enumerate(all_wiki_pages):\n",
    "    if wiki_page_exist(page):\n",
    "        existing_wiki_pages.append(page)\n",
    "    print(end=f\"\\r{i:4d} of {len(all_wiki_pages)} pages checked\")\n",
    "\n",
    "# also missing pages\n",
    "missing_wiki_pages = list(all_wiki_pages.difference(existing_wiki_pages))\n",
    "\n",
    "# create a new file for the existing working list\n",
    "wiki_pages_file = \"working_wiki_pages.txt\"\n",
    "with open(wiki_pages_file, \"w\", encoding=\"utf8\") as working_wiki:\n",
    "    for page in existing_wiki_pages:\n",
    "        working_wiki.write(f\"{page}\\n\")"
   ]
  },
  {
   "cell_type": "markdown",
   "metadata": {},
   "source": [
    "### Print details"
   ]
  },
  {
   "cell_type": "code",
   "execution_count": 214,
   "metadata": {},
   "outputs": [
    {
     "name": "stdout",
     "output_type": "stream",
     "text": [
      "keyword_pages = 1800\n",
      "wiki_pages = 806\n",
      "most_edited_list = 100\n",
      "all_wiki_pages = 2522\n",
      "existing_wiki_pages = 2513\n",
      "missing_wiki_pages = 9\n"
     ]
    }
   ],
   "source": [
    "print(f\"keyword_pages = {len(keyword_pages)}\")\n",
    "print(f\"wiki_pages = {len(wiki_pages)}\")\n",
    "print(f\"most_edited_list = {len(most_edited_list)}\")\n",
    "print(f\"all_wiki_pages = {len(all_wiki_pages)}\")\n",
    "print(f\"existing_wiki_pages = {len(existing_wiki_pages)}\")\n",
    "print(f\"missing_wiki_pages = {len(missing_wiki_pages)}\")"
   ]
  },
  {
   "cell_type": "code",
   "execution_count": 224,
   "metadata": {},
   "outputs": [
    {
     "data": {
      "text/plain": [
       "['User:V(g)',\n",
       " '\"Huey',\n",
       " 'GlÃ¶yn_byw',\n",
       " '\"Etholiad_Senedd_Cymru',\n",
       " 'BibliothÃ¨que_nationale_de_France',\n",
       " '\"Metrolink',\n",
       " 'CÃ¢n_i_Gymru',\n",
       " '\"Etholiad_Senedd_Ewrop',\n",
       " 'CÃ¢n_i_Gymru_2021']"
      ]
     },
     "execution_count": 224,
     "metadata": {},
     "output_type": "execute_result"
    }
   ],
   "source": [
    "missing_wiki_pages"
   ]
  },
  {
   "cell_type": "markdown",
   "metadata": {},
   "source": [
    " ### 2. Define the text extractor function"
   ]
  },
  {
   "cell_type": "code",
   "execution_count": 223,
   "metadata": {},
   "outputs": [],
   "source": [
    "def extract_text(titles, data_dir=\"data\", lang=\"cy\" ):\n",
    "    # Extract Wiki text\n",
    "    wiki = wikipediaapi.Wikipedia(language=lang,\n",
    "            extract_format=wikipediaapi.ExtractFormat.WIKI)\n",
    "\n",
    "    html = wikipediaapi.Wikipedia(language=lang,\n",
    "            extract_format=wikipediaapi.ExtractFormat.HTML)\n",
    "    \n",
    "    # Create directory for text files\n",
    "    text_dir = os.path.join(\".\", data_dir, \"text\")\n",
    "    if not os.path.exists(text_dir): os.makedirs(text_dir)\n",
    "    \n",
    "    # Create directory for summary files\n",
    "    summary_dir = os.path.join(\".\", data_dir, \"summary\")\n",
    "    if not os.path.exists(summary_dir): os.makedirs(summary_dir)\n",
    "    \n",
    "    # Create directory for html files\n",
    "    html_dir = os.path.join(\".\", data_dir, \"html\")\n",
    "    if not os.path.exists(html_dir): os.makedirs(html_dir)                              \n",
    "\n",
    "    file_id = 0\n",
    "    for i, name in enumerate(titles):\n",
    "        print(end=f\"\\r processing file '{i+1:4d} of {len(titles)} pages\")\n",
    "        wiki_page = wiki.page(name)\n",
    "        html_page = html.page(name)\n",
    "        \n",
    "        if count_tokens(wiki_page.text):\n",
    "            try:\n",
    "                file_id +=1\n",
    "                wiki_title = f\"<title>\\n{wiki_page.title}\\n</title>\"\n",
    "                wiki_text = f\"<text>\\n{wiki_page.text}\\n</text>\"\n",
    "                wiki_summary = f\"<summary>\\n{wiki_page.summary}\\n</summary>\"\n",
    "                wiki_categories = f\"<categories>\\n{wiki_page.categories}\\n</categories>\"\n",
    "                \n",
    "                text_file_name = os.path.join(text_dir,f\"{file_id}_{name.split('_')[0]}.txt\")\n",
    "                text_file_name = text_file_name.replace(\":\",\"_\")\n",
    "                text_file_name = text_file_name.replace(\"/\",\"_\")\n",
    "                with open(text_file_name, 'w', encoding=\"utf8\") as f:\n",
    "                    f.write(f\"{wiki_title}\\n\\n{wiki_text}\\n\\n{wiki_categories}\")\n",
    "                \n",
    "                summary_file_name = os.path.join(summary_dir,f\"{file_id}_{name.split('_')[0]}_summary.txt\")\n",
    "                summary_file_name = summary_file_name.replace(\":\",\"_\")\n",
    "                summary_file_name = summary_file_name.replace(\"/\",\"_\")\n",
    "                with open(summary_file_name, 'w', encoding=\"utf8\") as f:\n",
    "                    f.write(f\"{wiki_title}\\n\\n{wiki_summary}\") \n",
    "\n",
    "                html_title = f\"<h1>begin title</h1>\\n{html_page.title}\\n<h1>end title</h1>\"\n",
    "                html_text = f\"<h1>begin text</h1>\\n{html_page.text}\\n<h1>end text</h1>\"\n",
    "                html_summary = f\"<h1>begin summary</h1>\\n{html_page.summary}\\n<h1>end summary</h1>\"\n",
    "                html_categories = f\"<h1>begin categories</h1>\\n{html_page.categories}\\n<h1>end categories</h1>\"\n",
    "\n",
    "                html_file_name = os.path.join(html_dir,f\"{file_id}_{name.split('_')[0]}.html\")\n",
    "                html_file_name = html_file_name.replace(\":\",\"_\")\n",
    "                html_file_name = html_file_name.replace(\"/\",\"_\")\n",
    "                with open(html_file_name, 'w', encoding=\"utf8\") as f:\n",
    "                    f.write(f\"{html_title}\\n\\n{html_text}\\n\\n{html_summary}\\n\\n{html_categories}\")\n",
    "            except OSError:\n",
    "                print(f\"Could not write text in {text_file_name}.\")"
   ]
  },
  {
   "cell_type": "markdown",
   "metadata": {},
   "source": [
    "### 3. Extract and zip text and summary files"
   ]
  },
  {
   "cell_type": "code",
   "execution_count": 222,
   "metadata": {},
   "outputs": [
    {
     "name": "stdout",
     "output_type": "stream",
     "text": [
      " processing file ' 315 of 315"
     ]
    }
   ],
   "source": [
    "# Extract text and summary files\n",
    "extract_text(existing_wiki_pages[2198:]) # read this from the file \"working_wiki_pages.txt\"\n",
    "\n",
    "# Create a zip archive of the data directory\n",
    "shutil.make_archive(\"data\", 'zip', \"data\")\n",
    "\n",
    "# Remove the data folder\n",
    "shutil.rmtree(\"data\")"
   ]
  }
 ],
 "metadata": {
  "kernelspec": {
   "display_name": "Python 3",
   "language": "python",
   "name": "python3"
  },
  "language_info": {
   "codemirror_mode": {
    "name": "ipython",
    "version": 3
   },
   "file_extension": ".py",
   "mimetype": "text/x-python",
   "name": "python",
   "nbconvert_exporter": "python",
   "pygments_lexer": "ipython3",
   "version": "3.7.6"
  }
 },
 "nbformat": 4,
 "nbformat_minor": 4
}
